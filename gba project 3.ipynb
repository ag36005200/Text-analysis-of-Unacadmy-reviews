{
 "cells": [
  {
   "cell_type": "code",
   "execution_count": 3,
   "id": "8fd25e1a-8a5f-4bba-8851-81bb36ad133a",
   "metadata": {},
   "outputs": [
    {
     "name": "stdout",
     "output_type": "stream",
     "text": [
      "            name  age location  \\\n",
      "0    Riya Sharma   24    Delhi   \n",
      "1   Anurag Gupta   28    Delhi   \n",
      "2  Sanjana Verma   22    Delhi   \n",
      "3   Karthik Iyer   30    Delhi   \n",
      "4    Meera Singh   27    Delhi   \n",
      "\n",
      "                                              review  \n",
      "0  Unacademy helped me build a strong foundation ...  \n",
      "1  Good platform with a wide range of courses; so...  \n",
      "2  The app is user-friendly and the mock tests ar...  \n",
      "3  Solid collection of courses; I like the struct...  \n",
      "4  Highly informative content, but occasionally t...  \n"
     ]
    }
   ],
   "source": [
    "import pandas as pd\n",
    "\n",
    "# Replace 'your_file.xlsx' with the path to your Excel file\n",
    "df = pd.read_excel(r\"C:\\Users\\Abhishek\\OneDrive\\Desktop\\delhi_unacademy_reviews_500.xlsx\")\n",
    "\n",
    "# Display the first 5 rows of the dataframe\n",
    "print(df.head())"
   ]
  },
  {
   "cell_type": "code",
   "execution_count": 43,
   "id": "e5f8c547-e64d-4186-982c-5c6e4dbbbfe5",
   "metadata": {},
   "outputs": [
    {
     "name": "stdout",
     "output_type": "stream",
     "text": [
      "Requirement already satisfied: nltk in c:\\users\\abhishek\\onedrive\\desktop\\anaconda\\envs\\gba\\lib\\site-packages (3.9.1)\n",
      "Requirement already satisfied: click in c:\\users\\abhishek\\onedrive\\desktop\\anaconda\\envs\\gba\\lib\\site-packages (from nltk) (8.2.1)\n",
      "Requirement already satisfied: joblib in c:\\users\\abhishek\\onedrive\\desktop\\anaconda\\envs\\gba\\lib\\site-packages (from nltk) (1.5.2)\n",
      "Requirement already satisfied: regex>=2021.8.3 in c:\\users\\abhishek\\onedrive\\desktop\\anaconda\\envs\\gba\\lib\\site-packages (from nltk) (2025.9.1)\n",
      "Requirement already satisfied: tqdm in c:\\users\\abhishek\\onedrive\\desktop\\anaconda\\envs\\gba\\lib\\site-packages (from nltk) (4.67.1)\n",
      "Requirement already satisfied: colorama in c:\\users\\abhishek\\onedrive\\desktop\\anaconda\\envs\\gba\\lib\\site-packages (from click->nltk) (0.4.6)\n"
     ]
    }
   ],
   "source": [
    "!pip install nltk"
   ]
  },
  {
   "cell_type": "code",
   "execution_count": 44,
   "id": "ffb10ccd-9d53-471c-8949-62e6a5e57858",
   "metadata": {},
   "outputs": [
    {
     "name": "stdout",
     "output_type": "stream",
     "text": [
      "Successfully loaded 'C:\\Users\\Abhishek\\OneDrive\\Desktop\\delhi_unacademy_reviews_500.xlsx'. It has 500 rows.\n",
      "1. Removed missing rows. Rows remaining: 500 (removed 0).\n",
      "2. Created 'review_lowercase' column.\n",
      "3. Created 'review_tokenized' column.\n",
      "4. Created 'review_no_stopwords' column.\n",
      "\n",
      "Processing complete!\n",
      "Successfully saved the data with new columns to 'processed_reviews_with_steps.xlsx'\n",
      "\n",
      "Preview of the DataFrame with new columns:\n",
      "                                              review  \\\n",
      "0  Unacademy helped me build a strong foundation ...   \n",
      "1  Good platform with a wide range of courses; so...   \n",
      "2  The app is user-friendly and the mock tests ar...   \n",
      "3  Solid collection of courses; I like the struct...   \n",
      "4  Highly informative content, but occasionally t...   \n",
      "\n",
      "                                    review_lowercase  \\\n",
      "0  unacademy helped me build a strong foundation ...   \n",
      "1  good platform with a wide range of courses; so...   \n",
      "2  the app is user-friendly and the mock tests ar...   \n",
      "3  solid collection of courses; i like the struct...   \n",
      "4  highly informative content, but occasionally t...   \n",
      "\n",
      "                                    review_tokenized  \\\n",
      "0  [unacademy, helped, me, build, a, strong, foun...   \n",
      "1  [good, platform, with, a, wide, range, of, cou...   \n",
      "2  [the, app, is, user-friendly, and, the, mock, ...   \n",
      "3  [solid, collection, of, courses, ;, i, like, t...   \n",
      "4  [highly, informative, content, ,, but, occasio...   \n",
      "\n",
      "                                 review_no_stopwords  \n",
      "0  [unacademy, helped, build, strong, foundation,...  \n",
      "1  [good, platform, wide, range, courses, ;, inst...  \n",
      "2  [app, user-friendly, mock, tests, useful, ,, t...  \n",
      "3  [solid, collection, courses, ;, like, structur...  \n",
      "4  [highly, informative, content, ,, occasionally...  \n"
     ]
    }
   ],
   "source": [
    "import pandas as pd\n",
    "import nltk\n",
    "from nltk.tokenize import word_tokenize\n",
    "from nltk.corpus import stopwords\n",
    "\n",
    "# --- Step 1: Load your Excel file ---\n",
    "# Make sure to replace with the correct path to your file.\n",
    "file_path = \"C:\\\\Users\\\\Abhishek\\\\OneDrive\\\\Desktop\\\\delhi_unacademy_reviews_500.xlsx\"\n",
    "output_filename = 'processed_reviews_with_steps.xlsx'\n",
    "\n",
    "try:\n",
    "    df = pd.read_excel(file_path)\n",
    "    print(f\"Successfully loaded '{file_path}'. It has {len(df)} rows.\")\n",
    "    # Ensure the 'review' column exists before proceeding\n",
    "    if 'review' not in df.columns:\n",
    "        print(f\"Error: A column named 'review' was not found.\")\n",
    "        print(f\"Available columns are: {df.columns.tolist()}\")\n",
    "        # Stop execution if the column isn't found\n",
    "        df = pd.DataFrame()\n",
    "\n",
    "except FileNotFoundError:\n",
    "    print(f\"Error: The file was not found at '{file_path}'\")\n",
    "    df = pd.DataFrame() # Create an empty DataFrame to prevent further errors\n",
    "\n",
    "\n",
    "# --- Step 2: Perform preprocessing if the DataFrame is loaded and valid ---\n",
    "if not df.empty:\n",
    "    \n",
    "    # Action 1: Remove missing rows from the 'review' column\n",
    "    initial_rows = len(df)\n",
    "    df.dropna(subset=['review'], inplace=True)\n",
    "    print(f\"1. Removed missing rows. Rows remaining: {len(df)} (removed {initial_rows - len(df)}).\")\n",
    "\n",
    "    # Action 2: Make every text in the 'review' column lowercase\n",
    "    # A new column 'review_lowercase' will be created.\n",
    "    df['review_lowercase'] = df['review'].astype(str).str.lower()\n",
    "    print(\"2. Created 'review_lowercase' column.\")\n",
    "\n",
    "    # Action 3: Tokenize the lowercase text\n",
    "    # A new column 'review_tokenized' will be created.\n",
    "    try:\n",
    "        # This checks if the 'punkt' tokenizer is available, if not, it downloads it.\n",
    "        nltk.data.find('tokenizers/punkt')\n",
    "    except LookupError:\n",
    "        print(\"Downloading NLTK 'punkt' tokenizer...\")\n",
    "        nltk.download('punkt')\n",
    "    \n",
    "    df['review_tokenized'] = df['review_lowercase'].apply(word_tokenize)\n",
    "    print(\"3. Created 'review_tokenized' column.\")\n",
    "\n",
    "    # Action 4: Remove stopwords from the tokenized text\n",
    "    # A new column 'review_no_stopwords' will be created.\n",
    "    try:\n",
    "        # This checks if stopwords are available, if not, it downloads them.\n",
    "        stop_words = set(stopwords.words('english'))\n",
    "    except LookupError:\n",
    "        print(\"Downloading NLTK 'stopwords'...\")\n",
    "        nltk.download('stopwords')\n",
    "        stop_words = set(stopwords.words('english'))\n",
    "    \n",
    "    def remove_stopwords_func(tokens):\n",
    "        return [word for word in tokens if word not in stop_words]\n",
    "\n",
    "    df['review_no_stopwords'] = df['review_tokenized'].apply(remove_stopwords_func)\n",
    "    print(\"4. Created 'review_no_stopwords' column.\")\n",
    "\n",
    "    # --- Step 3: Save the data with new columns to a new Excel file ---\n",
    "    # It's best practice to save to a new file to preserve your original data.\n",
    "    df.to_excel(output_filename, index=False)\n",
    "\n",
    "    print(f\"\\nProcessing complete!\")\n",
    "    print(f\"Successfully saved the data with new columns to '{output_filename}'\")\n",
    "\n",
    "    # Display the first few rows of the original and new columns for review\n",
    "    print(\"\\nPreview of the DataFrame with new columns:\")\n",
    "    print(df[['review', 'review_lowercase', 'review_tokenized', 'review_no_stopwords']].head())"
   ]
  },
  {
   "cell_type": "code",
   "execution_count": 10,
   "id": "c0b00728-eda9-45a6-8bfc-44663dcd66a0",
   "metadata": {},
   "outputs": [
    {
     "name": "stdout",
     "output_type": "stream",
     "text": [
      "Successfully saved the updated data to 'C:\\Users\\Abhishek\\OneDrive\\Desktop\\delhi_unacademy_reviews_500.xlsx'\n"
     ]
    }
   ],
   "source": [
    "# Assuming 'df' is the DataFrame you have from the previous steps\n",
    "# which contains the original and all the new columns.\n",
    "\n",
    "# Define the name for your new Excel file\n",
    "output_filename = \"C:\\\\Users\\\\Abhishek\\\\OneDrive\\\\Desktop\\\\delhi_unacademy_reviews_500.xlsx\"\n",
    "\n",
    "# Save the DataFrame to an Excel file.\n",
    "# We use index=False because we don't want to write the DataFrame's\n",
    "# row numbers (index) as a separate column in the Excel file.\n",
    "df.to_excel(output_filename, index=False)\n",
    "\n",
    "print(f\"Successfully saved the updated data to '{output_filename}'\")"
   ]
  },
  {
   "cell_type": "code",
   "execution_count": null,
   "id": "0709cf7a-79ab-42d5-8a9d-6374b02d49bc",
   "metadata": {},
   "outputs": [],
   "source": []
  }
 ],
 "metadata": {
  "kernelspec": {
   "display_name": "Python 3 (ipykernel)",
   "language": "python",
   "name": "python3"
  },
  "language_info": {
   "codemirror_mode": {
    "name": "ipython",
    "version": 3
   },
   "file_extension": ".py",
   "mimetype": "text/x-python",
   "name": "python",
   "nbconvert_exporter": "python",
   "pygments_lexer": "ipython3",
   "version": "3.10.18"
  }
 },
 "nbformat": 4,
 "nbformat_minor": 5
}
